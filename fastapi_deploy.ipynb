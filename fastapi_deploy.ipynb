{
 "cells": [
  {
   "cell_type": "code",
   "execution_count": 1,
   "id": "b378fa87",
   "metadata": {},
   "outputs": [],
   "source": [
    "from fastapi import FastAPI\n",
    "from pydantic import BaseModel\n",
    "import joblib\n",
    "import pandas as pd"
   ]
  },
  {
   "cell_type": "code",
   "execution_count": 2,
   "id": "80b4c827",
   "metadata": {},
   "outputs": [],
   "source": [
    "# ----------Load model ---------\n",
    "\n",
    "model=joblib.load('models/best_model_RandomForest.joblib')"
   ]
  },
  {
   "cell_type": "code",
   "execution_count": 3,
   "id": "eec424bf",
   "metadata": {},
   "outputs": [],
   "source": [
    "# 2️⃣ Define the request schema using Pydantic\n",
    "# This tells FastAPI what kind of input (JSON) we expect.\n",
    "class InputData(BaseModel):\n",
    "    features: dict   # flexible: input is a dictionary of feature_name: value"
   ]
  },
  {
   "cell_type": "code",
   "execution_count": 4,
   "id": "ab5a93ed",
   "metadata": {},
   "outputs": [],
   "source": [
    "# 3️⃣ Create FastAPI app\n",
    "app = FastAPI(title=\"House Price Prediction API\")"
   ]
  },
  {
   "cell_type": "code",
   "execution_count": 5,
   "id": "79073581",
   "metadata": {},
   "outputs": [],
   "source": [
    "# 4️⃣ Root endpoint (just to test if API is running)\n",
    "@app.get(\"/\")\n",
    "def home():\n",
    "    return {\"message\": \"House Price Prediction API is running 🚀\"}"
   ]
  },
  {
   "cell_type": "code",
   "execution_count": 6,
   "id": "5b66fbd5",
   "metadata": {},
   "outputs": [],
   "source": [
    "# 5️⃣ Prediction endpoint\n",
    "@app.post(\"/predict\")\n",
    "def predict(data: InputData):\n",
    "    \"\"\"\n",
    "    Takes input features as JSON, converts them into a DataFrame,\n",
    "    makes prediction using the loaded model, and returns the result.\n",
    "    \"\"\"\n",
    "\n",
    "    # Convert Pydantic model -> dict\n",
    "    input_dict = data.dict()[\"features\"]\n",
    "\n",
    "    # Convert dict -> DataFrame (one row only)\n",
    "    X = pd.DataFrame([input_dict])\n",
    "\n",
    "    # Make prediction\n",
    "    prediction = model.predict(X)\n",
    "\n",
    "    # Return as JSON\n",
    "    return {\"prediction\": float(prediction[0])}"
   ]
  },
  {
   "cell_type": "code",
   "execution_count": null,
   "id": "2b879de5",
   "metadata": {},
   "outputs": [],
   "source": []
  }
 ],
 "metadata": {
  "kernelspec": {
   "display_name": "hpvenv",
   "language": "python",
   "name": "python3"
  },
  "language_info": {
   "codemirror_mode": {
    "name": "ipython",
    "version": 3
   },
   "file_extension": ".py",
   "mimetype": "text/x-python",
   "name": "python",
   "nbconvert_exporter": "python",
   "pygments_lexer": "ipython3",
   "version": "3.13.5"
  }
 },
 "nbformat": 4,
 "nbformat_minor": 5
}
